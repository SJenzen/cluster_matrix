{
 "cells": [
  {
   "cell_type": "markdown",
   "metadata": {},
   "source": [
    "## Test clustering of a vectorized text\n",
    "To demonstrate the usage of the module a clustering for a matrix of text vectors will be performed. The orininal text is not known , so the evaluation is not based on the text content, but only on the similarity matrix."
   ]
  },
  {
   "cell_type": "code",
   "execution_count": 22,
   "metadata": {},
   "outputs": [],
   "source": [
    "# some imports \n",
    "import pandas as pd\n",
    "import numpy as np\n",
    "from sklearn.metrics.pairwise import cosine_similarity, cosine_distances\n",
    "import matplotlib.pyplot as plt\n",
    "\n",
    "from cluster import distance_matrix_cluster"
   ]
  },
  {
   "cell_type": "markdown",
   "metadata": {},
   "source": [
    "First load some test data that represents a vectorized text with a lot of noise to generate fuzzy data as well as data that probably can be clustered. The text is vectorized with a vector of 300 values per text."
   ]
  },
  {
   "cell_type": "code",
   "execution_count": 23,
   "metadata": {},
   "outputs": [
    {
     "data": {
      "text/html": [
       "<div>\n",
       "<style scoped>\n",
       "    .dataframe tbody tr th:only-of-type {\n",
       "        vertical-align: middle;\n",
       "    }\n",
       "\n",
       "    .dataframe tbody tr th {\n",
       "        vertical-align: top;\n",
       "    }\n",
       "\n",
       "    .dataframe thead th {\n",
       "        text-align: right;\n",
       "    }\n",
       "</style>\n",
       "<table border=\"1\" class=\"dataframe\">\n",
       "  <thead>\n",
       "    <tr style=\"text-align: right;\">\n",
       "      <th></th>\n",
       "      <th>Element_1</th>\n",
       "      <th>Element_2</th>\n",
       "      <th>Element_3</th>\n",
       "      <th>Element_4</th>\n",
       "      <th>Element_5</th>\n",
       "      <th>Element_6</th>\n",
       "      <th>Element_7</th>\n",
       "      <th>Element_8</th>\n",
       "      <th>Element_9</th>\n",
       "      <th>Element_10</th>\n",
       "      <th>...</th>\n",
       "      <th>Element_291</th>\n",
       "      <th>Element_292</th>\n",
       "      <th>Element_293</th>\n",
       "      <th>Element_294</th>\n",
       "      <th>Element_295</th>\n",
       "      <th>Element_296</th>\n",
       "      <th>Element_297</th>\n",
       "      <th>Element_298</th>\n",
       "      <th>Element_299</th>\n",
       "      <th>Element_300</th>\n",
       "    </tr>\n",
       "  </thead>\n",
       "  <tbody>\n",
       "    <tr>\n",
       "      <th>0</th>\n",
       "      <td>-0.007904</td>\n",
       "      <td>0.035546</td>\n",
       "      <td>0.047192</td>\n",
       "      <td>-0.007949</td>\n",
       "      <td>0.010477</td>\n",
       "      <td>-0.008182</td>\n",
       "      <td>-0.011445</td>\n",
       "      <td>-0.035753</td>\n",
       "      <td>0.035454</td>\n",
       "      <td>-0.015821</td>\n",
       "      <td>...</td>\n",
       "      <td>-0.004002</td>\n",
       "      <td>-0.001356</td>\n",
       "      <td>-0.025596</td>\n",
       "      <td>0.053442</td>\n",
       "      <td>0.008956</td>\n",
       "      <td>-0.019150</td>\n",
       "      <td>0.021031</td>\n",
       "      <td>0.003122</td>\n",
       "      <td>0.015676</td>\n",
       "      <td>0.006401</td>\n",
       "    </tr>\n",
       "    <tr>\n",
       "      <th>1</th>\n",
       "      <td>-0.015593</td>\n",
       "      <td>-0.009980</td>\n",
       "      <td>0.067272</td>\n",
       "      <td>-0.052712</td>\n",
       "      <td>-0.054464</td>\n",
       "      <td>-0.030286</td>\n",
       "      <td>-0.004139</td>\n",
       "      <td>0.005415</td>\n",
       "      <td>0.087436</td>\n",
       "      <td>-0.014635</td>\n",
       "      <td>...</td>\n",
       "      <td>-0.022128</td>\n",
       "      <td>-0.020702</td>\n",
       "      <td>0.076411</td>\n",
       "      <td>0.025577</td>\n",
       "      <td>0.015466</td>\n",
       "      <td>-0.060988</td>\n",
       "      <td>-0.005455</td>\n",
       "      <td>0.053969</td>\n",
       "      <td>-0.027327</td>\n",
       "      <td>-0.016326</td>\n",
       "    </tr>\n",
       "    <tr>\n",
       "      <th>2</th>\n",
       "      <td>-0.017281</td>\n",
       "      <td>0.012375</td>\n",
       "      <td>0.093076</td>\n",
       "      <td>-0.025339</td>\n",
       "      <td>-0.000575</td>\n",
       "      <td>-0.049027</td>\n",
       "      <td>-0.027204</td>\n",
       "      <td>-0.008726</td>\n",
       "      <td>0.067860</td>\n",
       "      <td>-0.026168</td>\n",
       "      <td>...</td>\n",
       "      <td>0.024719</td>\n",
       "      <td>-0.000294</td>\n",
       "      <td>-0.029040</td>\n",
       "      <td>0.044461</td>\n",
       "      <td>0.007957</td>\n",
       "      <td>0.020727</td>\n",
       "      <td>-0.003044</td>\n",
       "      <td>-0.000016</td>\n",
       "      <td>0.055452</td>\n",
       "      <td>-0.023106</td>\n",
       "    </tr>\n",
       "    <tr>\n",
       "      <th>3</th>\n",
       "      <td>0.013207</td>\n",
       "      <td>-0.023613</td>\n",
       "      <td>0.067088</td>\n",
       "      <td>-0.058188</td>\n",
       "      <td>-0.042209</td>\n",
       "      <td>-0.027906</td>\n",
       "      <td>-0.021455</td>\n",
       "      <td>0.021099</td>\n",
       "      <td>0.073236</td>\n",
       "      <td>-0.003298</td>\n",
       "      <td>...</td>\n",
       "      <td>0.032787</td>\n",
       "      <td>0.011478</td>\n",
       "      <td>0.021706</td>\n",
       "      <td>0.042530</td>\n",
       "      <td>-0.000442</td>\n",
       "      <td>0.022608</td>\n",
       "      <td>0.028816</td>\n",
       "      <td>-0.023278</td>\n",
       "      <td>0.015186</td>\n",
       "      <td>0.021627</td>\n",
       "    </tr>\n",
       "    <tr>\n",
       "      <th>4</th>\n",
       "      <td>-0.028641</td>\n",
       "      <td>0.045754</td>\n",
       "      <td>0.049446</td>\n",
       "      <td>-0.017503</td>\n",
       "      <td>-0.002231</td>\n",
       "      <td>-0.006154</td>\n",
       "      <td>-0.019927</td>\n",
       "      <td>0.002523</td>\n",
       "      <td>0.076408</td>\n",
       "      <td>-0.005986</td>\n",
       "      <td>...</td>\n",
       "      <td>0.009361</td>\n",
       "      <td>-0.013873</td>\n",
       "      <td>-0.002249</td>\n",
       "      <td>0.013598</td>\n",
       "      <td>0.001228</td>\n",
       "      <td>-0.018153</td>\n",
       "      <td>0.020685</td>\n",
       "      <td>0.017729</td>\n",
       "      <td>0.014282</td>\n",
       "      <td>-0.011329</td>\n",
       "    </tr>\n",
       "    <tr>\n",
       "      <th>...</th>\n",
       "      <td>...</td>\n",
       "      <td>...</td>\n",
       "      <td>...</td>\n",
       "      <td>...</td>\n",
       "      <td>...</td>\n",
       "      <td>...</td>\n",
       "      <td>...</td>\n",
       "      <td>...</td>\n",
       "      <td>...</td>\n",
       "      <td>...</td>\n",
       "      <td>...</td>\n",
       "      <td>...</td>\n",
       "      <td>...</td>\n",
       "      <td>...</td>\n",
       "      <td>...</td>\n",
       "      <td>...</td>\n",
       "      <td>...</td>\n",
       "      <td>...</td>\n",
       "      <td>...</td>\n",
       "      <td>...</td>\n",
       "      <td>...</td>\n",
       "    </tr>\n",
       "    <tr>\n",
       "      <th>1459</th>\n",
       "      <td>-0.014926</td>\n",
       "      <td>0.044086</td>\n",
       "      <td>0.063523</td>\n",
       "      <td>-0.014722</td>\n",
       "      <td>-0.024292</td>\n",
       "      <td>-0.006077</td>\n",
       "      <td>0.007870</td>\n",
       "      <td>0.019977</td>\n",
       "      <td>0.050961</td>\n",
       "      <td>-0.011557</td>\n",
       "      <td>...</td>\n",
       "      <td>0.004423</td>\n",
       "      <td>0.011998</td>\n",
       "      <td>0.006815</td>\n",
       "      <td>0.067788</td>\n",
       "      <td>0.005480</td>\n",
       "      <td>-0.032951</td>\n",
       "      <td>0.016450</td>\n",
       "      <td>0.018089</td>\n",
       "      <td>0.020696</td>\n",
       "      <td>0.000084</td>\n",
       "    </tr>\n",
       "    <tr>\n",
       "      <th>1460</th>\n",
       "      <td>0.018252</td>\n",
       "      <td>0.005552</td>\n",
       "      <td>0.081457</td>\n",
       "      <td>-0.032444</td>\n",
       "      <td>-0.027932</td>\n",
       "      <td>-0.007303</td>\n",
       "      <td>0.009944</td>\n",
       "      <td>0.014069</td>\n",
       "      <td>0.058845</td>\n",
       "      <td>-0.026925</td>\n",
       "      <td>...</td>\n",
       "      <td>0.010342</td>\n",
       "      <td>-0.018068</td>\n",
       "      <td>0.019487</td>\n",
       "      <td>0.041788</td>\n",
       "      <td>0.037231</td>\n",
       "      <td>-0.010978</td>\n",
       "      <td>0.014977</td>\n",
       "      <td>0.024400</td>\n",
       "      <td>0.018044</td>\n",
       "      <td>-0.006364</td>\n",
       "    </tr>\n",
       "    <tr>\n",
       "      <th>1461</th>\n",
       "      <td>-0.021851</td>\n",
       "      <td>0.041026</td>\n",
       "      <td>0.055648</td>\n",
       "      <td>0.012391</td>\n",
       "      <td>-0.074884</td>\n",
       "      <td>-0.022271</td>\n",
       "      <td>0.030518</td>\n",
       "      <td>0.003479</td>\n",
       "      <td>0.123126</td>\n",
       "      <td>-0.067492</td>\n",
       "      <td>...</td>\n",
       "      <td>-0.001367</td>\n",
       "      <td>-0.057175</td>\n",
       "      <td>0.069665</td>\n",
       "      <td>-0.002388</td>\n",
       "      <td>0.002154</td>\n",
       "      <td>0.007069</td>\n",
       "      <td>0.023099</td>\n",
       "      <td>0.043796</td>\n",
       "      <td>0.062445</td>\n",
       "      <td>0.022746</td>\n",
       "    </tr>\n",
       "    <tr>\n",
       "      <th>1462</th>\n",
       "      <td>0.017619</td>\n",
       "      <td>0.033429</td>\n",
       "      <td>0.074725</td>\n",
       "      <td>-0.081298</td>\n",
       "      <td>0.004957</td>\n",
       "      <td>0.069781</td>\n",
       "      <td>0.029782</td>\n",
       "      <td>0.048935</td>\n",
       "      <td>0.019385</td>\n",
       "      <td>0.002055</td>\n",
       "      <td>...</td>\n",
       "      <td>-0.000267</td>\n",
       "      <td>0.022087</td>\n",
       "      <td>-0.008716</td>\n",
       "      <td>-0.007719</td>\n",
       "      <td>-0.019213</td>\n",
       "      <td>-0.021987</td>\n",
       "      <td>0.010062</td>\n",
       "      <td>-0.031714</td>\n",
       "      <td>0.015724</td>\n",
       "      <td>-0.056254</td>\n",
       "    </tr>\n",
       "    <tr>\n",
       "      <th>1463</th>\n",
       "      <td>-0.011521</td>\n",
       "      <td>0.075870</td>\n",
       "      <td>0.073586</td>\n",
       "      <td>0.011268</td>\n",
       "      <td>-0.030204</td>\n",
       "      <td>-0.020876</td>\n",
       "      <td>-0.004935</td>\n",
       "      <td>0.012236</td>\n",
       "      <td>0.026799</td>\n",
       "      <td>-0.062584</td>\n",
       "      <td>...</td>\n",
       "      <td>0.003288</td>\n",
       "      <td>0.016170</td>\n",
       "      <td>0.031686</td>\n",
       "      <td>0.010907</td>\n",
       "      <td>-0.017342</td>\n",
       "      <td>-0.019463</td>\n",
       "      <td>0.006630</td>\n",
       "      <td>-0.006049</td>\n",
       "      <td>0.002596</td>\n",
       "      <td>-0.026331</td>\n",
       "    </tr>\n",
       "  </tbody>\n",
       "</table>\n",
       "<p>1464 rows × 300 columns</p>\n",
       "</div>"
      ],
      "text/plain": [
       "      Element_1  Element_2  Element_3  Element_4  Element_5  Element_6  \\\n",
       "0     -0.007904   0.035546   0.047192  -0.007949   0.010477  -0.008182   \n",
       "1     -0.015593  -0.009980   0.067272  -0.052712  -0.054464  -0.030286   \n",
       "2     -0.017281   0.012375   0.093076  -0.025339  -0.000575  -0.049027   \n",
       "3      0.013207  -0.023613   0.067088  -0.058188  -0.042209  -0.027906   \n",
       "4     -0.028641   0.045754   0.049446  -0.017503  -0.002231  -0.006154   \n",
       "...         ...        ...        ...        ...        ...        ...   \n",
       "1459  -0.014926   0.044086   0.063523  -0.014722  -0.024292  -0.006077   \n",
       "1460   0.018252   0.005552   0.081457  -0.032444  -0.027932  -0.007303   \n",
       "1461  -0.021851   0.041026   0.055648   0.012391  -0.074884  -0.022271   \n",
       "1462   0.017619   0.033429   0.074725  -0.081298   0.004957   0.069781   \n",
       "1463  -0.011521   0.075870   0.073586   0.011268  -0.030204  -0.020876   \n",
       "\n",
       "      Element_7  Element_8  Element_9  Element_10  ...  Element_291  \\\n",
       "0     -0.011445  -0.035753   0.035454   -0.015821  ...    -0.004002   \n",
       "1     -0.004139   0.005415   0.087436   -0.014635  ...    -0.022128   \n",
       "2     -0.027204  -0.008726   0.067860   -0.026168  ...     0.024719   \n",
       "3     -0.021455   0.021099   0.073236   -0.003298  ...     0.032787   \n",
       "4     -0.019927   0.002523   0.076408   -0.005986  ...     0.009361   \n",
       "...         ...        ...        ...         ...  ...          ...   \n",
       "1459   0.007870   0.019977   0.050961   -0.011557  ...     0.004423   \n",
       "1460   0.009944   0.014069   0.058845   -0.026925  ...     0.010342   \n",
       "1461   0.030518   0.003479   0.123126   -0.067492  ...    -0.001367   \n",
       "1462   0.029782   0.048935   0.019385    0.002055  ...    -0.000267   \n",
       "1463  -0.004935   0.012236   0.026799   -0.062584  ...     0.003288   \n",
       "\n",
       "      Element_292  Element_293  Element_294  Element_295  Element_296  \\\n",
       "0       -0.001356    -0.025596     0.053442     0.008956    -0.019150   \n",
       "1       -0.020702     0.076411     0.025577     0.015466    -0.060988   \n",
       "2       -0.000294    -0.029040     0.044461     0.007957     0.020727   \n",
       "3        0.011478     0.021706     0.042530    -0.000442     0.022608   \n",
       "4       -0.013873    -0.002249     0.013598     0.001228    -0.018153   \n",
       "...           ...          ...          ...          ...          ...   \n",
       "1459     0.011998     0.006815     0.067788     0.005480    -0.032951   \n",
       "1460    -0.018068     0.019487     0.041788     0.037231    -0.010978   \n",
       "1461    -0.057175     0.069665    -0.002388     0.002154     0.007069   \n",
       "1462     0.022087    -0.008716    -0.007719    -0.019213    -0.021987   \n",
       "1463     0.016170     0.031686     0.010907    -0.017342    -0.019463   \n",
       "\n",
       "      Element_297  Element_298  Element_299  Element_300  \n",
       "0        0.021031     0.003122     0.015676     0.006401  \n",
       "1       -0.005455     0.053969    -0.027327    -0.016326  \n",
       "2       -0.003044    -0.000016     0.055452    -0.023106  \n",
       "3        0.028816    -0.023278     0.015186     0.021627  \n",
       "4        0.020685     0.017729     0.014282    -0.011329  \n",
       "...           ...          ...          ...          ...  \n",
       "1459     0.016450     0.018089     0.020696     0.000084  \n",
       "1460     0.014977     0.024400     0.018044    -0.006364  \n",
       "1461     0.023099     0.043796     0.062445     0.022746  \n",
       "1462     0.010062    -0.031714     0.015724    -0.056254  \n",
       "1463     0.006630    -0.006049     0.002596    -0.026331  \n",
       "\n",
       "[1464 rows x 300 columns]"
      ]
     },
     "execution_count": 23,
     "metadata": {},
     "output_type": "execute_result"
    }
   ],
   "source": [
    "\n",
    "df = pd.read_csv(\"vectorized_text_ml.csv\", index_col=0)\n",
    "df"
   ]
  },
  {
   "cell_type": "markdown",
   "metadata": {},
   "source": [
    "As basis for the clustering generate the cosine distances between the vectors"
   ]
  },
  {
   "cell_type": "code",
   "execution_count": 24,
   "metadata": {},
   "outputs": [],
   "source": [
    "# cosine distances\n",
    "df_cos = cosine_distances(df)\n",
    "#df_cos"
   ]
  },
  {
   "cell_type": "markdown",
   "metadata": {},
   "source": [
    "Check some content of the matrix."
   ]
  },
  {
   "cell_type": "code",
   "execution_count": 25,
   "metadata": {},
   "outputs": [
    {
     "data": {
      "image/png": "[encoded data removed]",
      "text/plain": [
       "<Figure size 432x288 with 1 Axes>"
      ]
     },
     "metadata": {
      "needs_background": "light"
     },
     "output_type": "display_data"
    }
   ],
   "source": [
    "plt.hist(df_cos.flatten(), bins=20)\n",
    "plt.show()"
   ]
  },
  {
   "cell_type": "markdown",
   "metadata": {},
   "source": [
    "The values indicate that the points are not verry similar. However, there could be cluster of similar text in this as well. "
   ]
  },
  {
   "cell_type": "code",
   "execution_count": 26,
   "metadata": {},
   "outputs": [],
   "source": [
    "# replace the diagonal values in the distance matrix to be able to detect the right max/min values\n",
    "df_cos2 = df_cos.copy()\n",
    "np.fill_diagonal(df_cos2, 2)\n"
   ]
  },
  {
   "cell_type": "code",
   "execution_count": 27,
   "metadata": {},
   "outputs": [
    {
     "data": {
      "image/png": "[encoded data removed]",
      "text/plain": [
       "<Figure size 432x288 with 1 Axes>"
      ]
     },
     "metadata": {
      "needs_background": "light"
     },
     "output_type": "display_data"
    }
   ],
   "source": [
    "plt.hist(df_cos2.min(axis=0), bins=30)\n",
    "plt.show()"
   ]
  },
  {
   "cell_type": "markdown",
   "metadata": {},
   "source": [
    "We see the minimum distances of the points indicating that there may be clusters of similar texts, even if we would consider a value of 0.2 as similar."
   ]
  },
  {
   "cell_type": "markdown",
   "metadata": {},
   "source": [
    "Check some evaluations \n",
    "\n",
    "evaluate the points of the matrix with closest points and points arround to detect group, border, fussy points - but do not use optimization "
   ]
  },
  {
   "cell_type": "code",
   "execution_count": 46,
   "metadata": {},
   "outputs": [
    {
     "name": "stdout",
     "output_type": "stream",
     "text": [
      "number of groups for case 1 :  57.0\n"
     ]
    }
   ],
   "source": [
    "df_cos3 = cosine_distances(df)\n",
    "cls = distance_matrix_cluster(step_size=0.005, similar_delta=0.15, optimizer=\"no\", fuzzy_cluster=True)\n",
    "cls.fit(df_cos3)\n",
    "result_case1 = cls.transform(df_cos3)\n",
    "print (\"number of groups for case 1 : \", max(result_case1))\n"
   ]
  },
  {
   "cell_type": "code",
   "execution_count": 35,
   "metadata": {},
   "outputs": [
    {
     "data": {
      "text/plain": [
       "array([46., 18.,  0., ..., 36.,  0.,  0.])"
      ]
     },
     "execution_count": 35,
     "metadata": {},
     "output_type": "execute_result"
    }
   ],
   "source": [
    "result_case1"
   ]
  },
  {
   "cell_type": "code",
   "execution_count": 42,
   "metadata": {},
   "outputs": [
    {
     "data": {
      "image/png": "[encoded data removed]",
      "text/plain": [
       "<Figure size 432x288 with 1 Axes>"
      ]
     },
     "metadata": {
      "needs_background": "light"
     },
     "output_type": "display_data"
    }
   ],
   "source": [
    "plt.hist(result_case1, bins=30)\n",
    "plt.show()"
   ]
  },
  {
   "cell_type": "markdown",
   "metadata": {},
   "source": [
    "We see clusters with different sizes, remember cluster 0 are the ones that not have been clustered to a group."
   ]
  },
  {
   "cell_type": "markdown",
   "metadata": {},
   "source": [
    "Make the same with optimization"
   ]
  },
  {
   "cell_type": "code",
   "execution_count": 41,
   "metadata": {},
   "outputs": [
    {
     "name": "stdout",
     "output_type": "stream",
     "text": [
      "number of groups for case 2 :  92.0\n"
     ]
    }
   ],
   "source": [
    "cls2 = distance_matrix_cluster(step_size=0.005, similar_delta=0.15, optimizer=\"min-delta\", fuzzy_cluster=True)\n",
    "cls2.fit(df_cos3)\n",
    "result_case2 = cls2.transform(df_cos3)\n",
    "print (\"number of groups for case 2 : \", max(result_case2))\n",
    "case2_parameter = cls2.get_parameter()"
   ]
  },
  {
   "cell_type": "markdown",
   "metadata": {},
   "source": [
    "the optimization takes more time and get even more clusters in that case. "
   ]
  },
  {
   "cell_type": "code",
   "execution_count": 36,
   "metadata": {},
   "outputs": [
    {
     "data": {
      "text/plain": [
       "array([ 1.,  8.,  2., ..., 57.,  0.,  0.])"
      ]
     },
     "execution_count": 36,
     "metadata": {},
     "output_type": "execute_result"
    }
   ],
   "source": [
    "result_case2"
   ]
  },
  {
   "cell_type": "code",
   "execution_count": 43,
   "metadata": {},
   "outputs": [
    {
     "data": {
      "image/png": "[encoded data removed]",
      "text/plain": [
       "<Figure size 432x288 with 1 Axes>"
      ]
     },
     "metadata": {
      "needs_background": "light"
     },
     "output_type": "display_data"
    }
   ],
   "source": [
    "plt.hist(result_case2, bins=30)\n",
    "plt.show()"
   ]
  },
  {
   "cell_type": "markdown",
   "metadata": {},
   "source": [
    "The result of the optimized version is more different in that case. More smaller groups have been detected."
   ]
  },
  {
   "cell_type": "markdown",
   "metadata": {},
   "source": [
    "Make the same with optimization, but distribute the fuzzy points."
   ]
  },
  {
   "cell_type": "code",
   "execution_count": 59,
   "metadata": {},
   "outputs": [
    {
     "name": "stdout",
     "output_type": "stream",
     "text": [
      "number of groups for case 3 :  92.0\n"
     ]
    }
   ],
   "source": [
    "cls3 = distance_matrix_cluster(step_size=0.005, similar_delta=0.15, optimizer=\"min-delta\", fuzzy_cluster=True, fuzzy_cluster_similarity=0.99)\n",
    "cls3.fit(df_cos3)\n",
    "result_case3 = cls3.transform(df_cos3)\n",
    "print (\"number of groups for case 3 : \", max(result_case2))\n",
    "case3_parameter = cls3.get_parameter()"
   ]
  },
  {
   "cell_type": "markdown",
   "metadata": {},
   "source": [
    "the optimization takes more time and get even more clusters in that case and distributes all the fuzzy points. "
   ]
  },
  {
   "cell_type": "code",
   "execution_count": 63,
   "metadata": {},
   "outputs": [
    {
     "data": {
      "text/plain": [
       "array([ 1.,  8.,  2., ..., 57., 75.,  1.])"
      ]
     },
     "execution_count": 63,
     "metadata": {},
     "output_type": "execute_result"
    }
   ],
   "source": [
    "result_case3"
   ]
  },
  {
   "cell_type": "code",
   "execution_count": 64,
   "metadata": {},
   "outputs": [
    {
     "data": {
      "image/png": "[encoded data removed]",
      "text/plain": [
       "<Figure size 432x288 with 1 Axes>"
      ]
     },
     "metadata": {
      "needs_background": "light"
     },
     "output_type": "display_data"
    }
   ],
   "source": [
    "plt.hist(result_case3, bins=100)\n",
    "plt.show()"
   ]
  },
  {
   "cell_type": "markdown",
   "metadata": {},
   "source": [
    "The result of the optimized version is more different in that case. More smaller groups have been detected."
   ]
  },
  {
   "cell_type": "markdown",
   "metadata": {},
   "source": [
    "Checking the values against k-means with the same cluster numbers"
   ]
  },
  {
   "cell_type": "code",
   "execution_count": 50,
   "metadata": {},
   "outputs": [],
   "source": [
    "from sklearn.cluster import KMeans\n",
    "kmeans1 = KMeans(n_clusters=max(result_case1), random_state=0).fit(df_cos3).predict(df_cos3)\n",
    "kmeans2 = KMeans(n_clusters=max(result_case2), random_state=0).fit(df_cos3).predict(df_cos3)\n"
   ]
  },
  {
   "cell_type": "code",
   "execution_count": 51,
   "metadata": {},
   "outputs": [
    {
     "data": {
      "text/plain": [
       "array([17, 49, 21, ..., 42, 24, 26], dtype=int32)"
      ]
     },
     "execution_count": 51,
     "metadata": {},
     "output_type": "execute_result"
    }
   ],
   "source": [
    "kmeans1"
   ]
  },
  {
   "cell_type": "code",
   "execution_count": 56,
   "metadata": {},
   "outputs": [
    {
     "data": {
      "image/png": "[encoded data removed]",
      "text/plain": [
       "<Figure size 432x288 with 1 Axes>"
      ]
     },
     "metadata": {
      "needs_background": "light"
     },
     "output_type": "display_data"
    }
   ],
   "source": [
    "plt.hist(kmeans1, bins=30)\n",
    "plt.show()"
   ]
  },
  {
   "cell_type": "code",
   "execution_count": 52,
   "metadata": {},
   "outputs": [
    {
     "data": {
      "text/plain": [
       "array([75, 77, 66, ..., 55, 62, 61], dtype=int32)"
      ]
     },
     "execution_count": 52,
     "metadata": {},
     "output_type": "execute_result"
    }
   ],
   "source": [
    "kmeans2"
   ]
  },
  {
   "cell_type": "code",
   "execution_count": 57,
   "metadata": {},
   "outputs": [
    {
     "data": {
      "image/png": "[encoded data removed]",
      "text/plain": [
       "<Figure size 432x288 with 1 Axes>"
      ]
     },
     "metadata": {
      "needs_background": "light"
     },
     "output_type": "display_data"
    }
   ],
   "source": [
    "plt.hist(kmeans2, bins=30)\n",
    "plt.show()"
   ]
  },
  {
   "cell_type": "code",
   "execution_count": 54,
   "metadata": {},
   "outputs": [
    {
     "data": {
      "image/png": "[encoded data removed]",
      "text/plain": [
       "<Figure size 432x288 with 1 Axes>"
      ]
     },
     "metadata": {
      "needs_background": "light"
     },
     "output_type": "display_data"
    }
   ],
   "source": [
    "plt.scatter(x=kmeans1, y=result_case1)\n",
    "plt.show()"
   ]
  },
  {
   "cell_type": "code",
   "execution_count": 55,
   "metadata": {},
   "outputs": [
    {
     "data": {
      "image/png": "[encoded data removed]",
      "text/plain": [
       "<Figure size 432x288 with 1 Axes>"
      ]
     },
     "metadata": {
      "needs_background": "light"
     },
     "output_type": "display_data"
    }
   ],
   "source": [
    "plt.scatter(x=kmeans2, y=result_case2)\n",
    "plt.show()"
   ]
  },
  {
   "cell_type": "code",
   "execution_count": null,
   "metadata": {},
   "outputs": [],
   "source": [
    "plt.scatter(x=kmeans2, y=result_case3)\n",
    "plt.show()"
   ]
  },
  {
   "cell_type": "code",
   "execution_count": 58,
   "metadata": {},
   "outputs": [
    {
     "data": {
      "image/png": "[encoded data removed]",
      "text/plain": [
       "<Figure size 432x288 with 1 Axes>"
      ]
     },
     "metadata": {
      "needs_background": "light"
     },
     "output_type": "display_data"
    }
   ],
   "source": [
    "plt.scatter(x=kmeans2, y=kmeans1)\n",
    "plt.show()"
   ]
  },
  {
   "cell_type": "markdown",
   "metadata": {},
   "source": [
    "looks like the clusters are not verry similar, so the clustering is not replacing the k-means clustering."
   ]
  }
 ],
 "metadata": {
  "kernelspec": {
   "display_name": "Python 3",
   "language": "python",
   "name": "python3"
  },
  "language_info": {
   "codemirror_mode": {
    "name": "ipython",
    "version": 3
   },
   "file_extension": ".py",
   "mimetype": "text/x-python",
   "name": "python",
   "nbconvert_exporter": "python",
   "pygments_lexer": "ipython3",
   "version": "3.7.4"
  }
 },
 "nbformat": 4,
 "nbformat_minor": 2
}
